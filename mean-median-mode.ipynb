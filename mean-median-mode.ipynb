{
 "cells": [
  {
   "cell_type": "code",
   "execution_count": 10,
   "id": "590ca101-38dd-46b9-8772-64d6ab7fe3a5",
   "metadata": {},
   "outputs": [],
   "source": [
    "\n",
    "import numpy as np\n",
    "import pandas as pd\n",
    "import matplotlib.pyplot as plt\n",
    "import scipy.stats as stats\n",
    "\n",
    "# kaggle competitions download -c titanic"
   ]
  },
  {
   "cell_type": "code",
   "execution_count": 15,
   "id": "96e5009c-f905-4aac-8288-ad13815e056d",
   "metadata": {},
   "outputs": [
    {
     "name": "stdout",
     "output_type": "stream",
     "text": [
      "(891, 12)\n",
      "PassengerId      int64\n",
      "Survived         int64\n",
      "Pclass           int64\n",
      "Name            object\n",
      "Sex             object\n",
      "Age            float64\n",
      "SibSp            int64\n",
      "Parch            int64\n",
      "Ticket          object\n",
      "Fare           float64\n",
      "Cabin           object\n",
      "Embarked        object\n",
      "dtype: object\n",
      "PassengerId      0\n",
      "Survived         0\n",
      "Pclass           0\n",
      "Name             0\n",
      "Sex              0\n",
      "Age            177\n",
      "SibSp            0\n",
      "Parch            0\n",
      "Ticket           0\n",
      "Fare             0\n",
      "Cabin          687\n",
      "Embarked         2\n",
      "dtype: int64\n"
     ]
    }
   ],
   "source": [
    "# data = np.array([1, 3, 5, 2, 3, 7, 8, 4, 10, 0, 6, 7, 3, 0, 3, 0, 5, 7, 10, 1, 4, 9, 3])\n",
    "\n",
    "# def compute_mean(dataset):\n",
    "#     # make a sum variable\n",
    "#     sum = 0\n",
    "\n",
    "#     # loop over the listand add up all total\n",
    "#     for t in dataset:\n",
    "#         sum = sum + t\n",
    "\n",
    "#     # divide the total by the length of the list\n",
    "#     mean = sum / len(dataset)\n",
    "\n",
    "#     # return the mean\n",
    "#     return mean\n",
    "\n",
    "# print('Computed data: ', compute_mean(data))\n",
    "# np.mean(data)\n",
    "\n",
    "df = pd.read_csv('train.csv')\n",
    "df.head()\n",
    "print(df.shape)\n",
    "print(df.dtypes)\n",
    "print(df.isnull().sum())"
   ]
  },
  {
   "cell_type": "code",
   "execution_count": 17,
   "id": "b0983c5b-058d-4f89-8c2a-1cf138e9aeff",
   "metadata": {},
   "outputs": [
    {
     "data": {
      "text/plain": [
       "array([[<AxesSubplot:title={'center':'Fare'}>]], dtype=object)"
      ]
     },
     "execution_count": 17,
     "metadata": {},
     "output_type": "execute_result"
    },
    {
     "data": {
      "image/png": "[encoded data removed]",
      "text/plain": [
       "<Figure size 432x288 with 1 Axes>"
      ]
     },
     "metadata": {
      "needs_background": "light"
     },
     "output_type": "display_data"
    },
    {
     "data": {
      "image/png": "[encoded data removed]",
      "text/plain": [
       "<Figure size 432x288 with 1 Axes>"
      ]
     },
     "metadata": {
      "needs_background": "light"
     },
     "output_type": "display_data"
    }
   ],
   "source": [
    "# def compute_median(dataset):\n",
    "#     print(dataset)\n",
    "#     # check if the dataset is even or odd\n",
    "#     if dataset % 2 != 0:\n",
    "#       # if odd, subtract the length by 1, divide in half, and then take the next element\n",
    "#       median_index = (len(dataset) - 1)/2 + 1\n",
    "#       median = dataset[median_index]\n",
    "#     else:\n",
    "#       # otherwise, divide the dataset in half and take the mean of the two middling elements\n",
    "#       left_index = len(dataset)/2 + 1\n",
    "#       right_index = len(dataset)/2 - 1\n",
    "#       median = (dataset(left_index) + dataset(right_index))/2\n",
    "#     return median\n",
    "\n",
    "#     np.median(dataset)\n",
    "\n",
    "df['Age'].mean()\n",
    "df['Age'].median()\n",
    "df['Age'].mode()\n",
    "\n",
    "df.hist(column=\"Age\")\n",
    "df.hist(column=\"Fare\")"
   ]
  },
  {
   "cell_type": "code",
   "execution_count": null,
   "id": "c83048bf-9d46-4cdc-b139-ca8f7a58c22a",
   "metadata": {},
   "outputs": [],
   "source": [
    "# mode = stats.mode(data)\n",
    "# print(mode)"
   ]
  },
  {
   "cell_type": "code",
   "execution_count": null,
   "id": "46ffd260-ea14-482a-a160-678c3fd73772",
   "metadata": {},
   "outputs": [],
   "source": [
    "# df = pd.DataFrame([[10, 20, 30, 40], [7, 14, 21, 28], [55, 15, 8, 12],\n",
    "#                    [15, 14, 1, 8], [7, 1, 1, 8], [5, 4, 9, 2]],\n",
    "#                   columns=['Apple', 'Orange', 'Banana', 'Pear'],\n",
    "#                   index=['Basket1', 'Basket2', 'Basket3', 'Basket4',\n",
    "#                          'Basket5', 'Basket6'])\n",
    "\n",
    "# print(\"\\n----------- Calculate Mean -----------\\n\")\n",
    "# print(df.mean())\n",
    "\n",
    "# print(\"\\n----------- Calculate Median -----------\\n\")\n",
    "# print(df.median())\n",
    "\n",
    "# print(\"\\n----------- Calculate Mode -----------\\n\")\n",
    "# print(df.mode())"
   ]
  },
  {
   "cell_type": "code",
   "execution_count": null,
   "id": "618ca835-c512-4203-8bd8-b00adccedc0c",
   "metadata": {},
   "outputs": [],
   "source": [
    "# Who was the oldest passenger aboard the ship? (Hint, .max(column))  Age 74\n",
    "# How much did the cheapest ticket cost? (Hint, .min(column))  $15-20\n",
    "# What was the range of ticket prices? (Hint max - min)  $15-150"
   ]
  },
  {
   "cell_type": "code",
   "execution_count": null,
   "id": "80b64fdb-07f5-4fac-806f-275fe6675e28",
   "metadata": {},
   "outputs": [],
   "source": []
  },
  {
   "cell_type": "code",
   "execution_count": null,
   "id": "742a1891-e6a8-4e44-9113-223a13e82303",
   "metadata": {},
   "outputs": [],
   "source": []
  }
 ],
 "metadata": {
  "kernelspec": {
   "display_name": "Python 3 (ipykernel)",
   "language": "python",
   "name": "python3"
  },
  "language_info": {
   "codemirror_mode": {
    "name": "ipython",
    "version": 3
   },
   "file_extension": ".py",
   "mimetype": "text/x-python",
   "name": "python",
   "nbconvert_exporter": "python",
   "pygments_lexer": "ipython3",
   "version": "3.9.1"
  }
 },
 "nbformat": 4,
 "nbformat_minor": 5
}
